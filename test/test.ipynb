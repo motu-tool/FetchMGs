{
 "cells": [
  {
   "cell_type": "code",
   "execution_count": 2,
   "metadata": {},
   "outputs": [],
   "source": [
    "import os\n",
    "import sys\n",
    "import glob\n",
    "import pytest\n",
    "from pathlib import Path\n",
    "\n",
    "# Directories required, modify if package structure changes\n",
    "PARENT_DIR     = f'../fetchmgs'         # Points to the package directory\n",
    "\n",
    "# Load fetchMGs functions\n",
    "sys.path.insert(0, PARENT_DIR) \n",
    "from fetchMGs import run_hmmsearch, parse_hmmsearch, parse_cutoffs, extraction"
   ]
  },
  {
   "cell_type": "code",
   "execution_count": 4,
   "metadata": {},
   "outputs": [],
   "source": [
    "class FakeArgs:\n",
    "    \"\"\" Class required to interact with fetchMGs functions \"\"\"\n",
    "    def __init__(self, params):\n",
    "        self.b    = params.get('b', None)            # Bitscore argument\n",
    "        self.v    = params.get('v', None)            # Very best hit argument\n",
    "        self.mode = params.get('mode', 'extraction') # Calibration or extraction, in this tests we only evaluate extraction \n",
    "        self.c    = params.get('c', 'all')           # COGs used, we consider the default 'all'\n",
    "\n",
    "\n",
    "cutoffs = {\"allhits\" : parse_cutoffs(FakeArgs({'b':f'{PARENT_DIR}/data/MG_BitScoreCutoffs.allhits.txt'})), \n",
    "           \"besthits\": parse_cutoffs(FakeArgs({'b':f'{PARENT_DIR}/data/MG_BitScoreCutoffs.verybesthit.txt', 'v':True}))}"
   ]
  },
  {
   "cell_type": "code",
   "execution_count": 5,
   "metadata": {},
   "outputs": [
    {
     "data": {
      "text/plain": [
       "{'COG0012': 210,\n",
       " 'COG0016': 240,\n",
       " 'COG0018': 340,\n",
       " 'COG0048': 100,\n",
       " 'COG0049': 120,\n",
       " 'COG0052': 140,\n",
       " 'COG0080': 90,\n",
       " 'COG0081': 130,\n",
       " 'COG0085': 1020,\n",
       " 'COG0086': 60,\n",
       " 'COG0087': 120,\n",
       " 'COG0088': 110,\n",
       " 'COG0090': 180,\n",
       " 'COG0091': 80,\n",
       " 'COG0092': 120,\n",
       " 'COG0093': 80,\n",
       " 'COG0094': 110,\n",
       " 'COG0096': 80,\n",
       " 'COG0097': 100,\n",
       " 'COG0098': 140,\n",
       " 'COG0099': 120,\n",
       " 'COG0100': 80,\n",
       " 'COG0102': 100,\n",
       " 'COG0103': 80,\n",
       " 'COG0124': 320,\n",
       " 'COG0172': 170,\n",
       " 'COG0184': 60,\n",
       " 'COG0185': 70,\n",
       " 'COG0186': 80,\n",
       " 'COG0197': 70,\n",
       " 'COG0200': 60,\n",
       " 'COG0201': 210,\n",
       " 'COG0202': 80,\n",
       " 'COG0215': 400,\n",
       " 'COG0256': 70,\n",
       " 'COG0495': 450,\n",
       " 'COG0522': 80,\n",
       " 'COG0525': 740,\n",
       " 'COG0533': 300,\n",
       " 'COG0541': 450,\n",
       " 'COG0552': 220}"
      ]
     },
     "execution_count": 5,
     "metadata": {},
     "output_type": "execute_result"
    }
   ],
   "source": [
    "cutoffs['allhits']"
   ]
  },
  {
   "cell_type": "code",
   "execution_count": 3,
   "metadata": {},
   "outputs": [],
   "source": [
    "def return_hmms_and_cuttofs():\n",
    "    \"\"\"\n",
    "    Returns hmms and default BitScoreCutoffs for allhits and verybest hit\n",
    "    ignores uncalibrated file used in calibration functions\n",
    "    \"\"\"\n",
    "    cutoffs = {\"allhits\":  {\"COG0012\": 210, \"COG0016\": 240, \"COG0018\": 340, \"COG0048\": 100,  \"COG0049\": 120,\n",
    "                            \"COG0052\": 140, \"COG0080\": 90,  \"COG0081\": 130, \"COG0085\": 1020, \"COG0086\": 60,\n",
    "                            \"COG0087\": 120, \"COG0088\": 110, \"COG0090\": 180, \"COG0091\": 80,   \"COG0092\": 120,\n",
    "                            \"COG0093\": 80,  \"COG0094\": 110, \"COG0096\": 80,  \"COG0097\": 100,  \"COG0098\": 140,\n",
    "                            \"COG0099\": 120, \"COG0100\": 80,  \"COG0102\": 100, \"COG0103\": 80,   \"COG0124\": 320,\n",
    "                            \"COG0172\": 170, \"COG0184\": 60,  \"COG0185\": 70,  \"COG0186\": 80,   \"COG0197\": 70,\n",
    "                            \"COG0200\": 60,  \"COG0201\": 210, \"COG0202\": 80,  \"COG0215\": 400,  \"COG0256\": 70,\n",
    "                            \"COG0495\": 450, \"COG0522\": 80,  \"COG0525\": 740, \"COG0533\": 300,  \"COG0541\": 450,\n",
    "                            \"COG0552\": 220},\n",
    "              \"besthits\":  {\"COG0012\": 210, \"COG0016\": 240, \"COG0018\": 340, \"COG0048\": 100,  \"COG0049\": 120,\n",
    "                            \"COG0052\": 140, \"COG0080\": 90,  \"COG0081\": 130, \"COG0085\": 540,  \"COG0086\": 60,\n",
    "                            \"COG0087\": 120, \"COG0088\": 110, \"COG0090\": 180, \"COG0091\": 60,   \"COG0092\": 120,\n",
    "                            \"COG0093\": 80,  \"COG0094\": 110, \"COG0096\": 80,  \"COG0097\": 100,  \"COG0098\": 140,\n",
    "                            \"COG0099\": 120, \"COG0100\": 80,  \"COG0102\": 100, \"COG0103\": 80,   \"COG0124\": 220,\n",
    "                            \"COG0172\": 170, \"COG0184\": 60,  \"COG0185\": 70,  \"COG0186\": 80,   \"COG0197\": 70,\n",
    "                            \"COG0200\": 60,  \"COG0201\": 210, \"COG0202\": 80,  \"COG0215\": 380,  \"COG0256\": 70,\n",
    "                            \"COG0495\": 420, \"COG0522\": 80,  \"COG0525\": 740, \"COG0533\": 300,  \"COG0541\": 450,\n",
    "                            \"COG0552\": 220}}\n",
    "    hmms = {cog_file.split('/')[-1].replace('.hmm', ''):cog_file for cog_file in glob.glob('./data/*.hmm')}   # This searches for all the \n",
    "    return cutoffs, hmms\n",
    "\n",
    "class FakeArgs:\n",
    "    \"\"\" Class required to interact with fetchMGs functions \"\"\"\n",
    "    def __init__(self, params):\n",
    "        self.b    = params.get('b', None)    # Bitscore argument\n",
    "        self.v    = params.get('v', None)    # Very best hit argument\n",
    "        self.mode = params.get('mode', 'extraction') # Calibration or extraction, in this tests we only evaluate extraction \n",
    "        self.c    = params.get('c', 'all')   # COGs used, we consider the default 'all'\n",
    "\n",
    "def return_hmms_and_cuttofs2():\n",
    "    \"\"\"\n",
    "    Returns hmms and default BitScoreCutoffs for allhits and verybest hit\n",
    "    ignores uncalibrated file used in calibration functions\n",
    "    \"\"\"\n",
    "    cutoffs = {\"allhits\": parse_cutoffs(FakeArgs({'b':'../fetchmgs/data/MG_BitScoreCutoffs.allhits.txt'})),\n",
    "               \"besthits\": parse_cutoffs(FakeArgs({'b':'../fetchmgs/data/MG_BitScoreCutoffs.verybesthit.txt', 'v':True}))}\n",
    "    hmms = {cog_file.split('/')[-1].replace('.hmm', ''):cog_file for cog_file in glob.glob('../fetchmgs/data/*.hmm')}   # This searches for all the hmm files in /data\n",
    "    return cutoffs, hmms"
   ]
  },
  {
   "cell_type": "code",
   "execution_count": 4,
   "metadata": {},
   "outputs": [],
   "source": [
    "cutoffs, hmms = return_hmms_and_cuttofs()\n",
    "cutoffs2, hmms2 = return_hmms_and_cuttofs2()"
   ]
  },
  {
   "cell_type": "code",
   "execution_count": 5,
   "metadata": {},
   "outputs": [
    {
     "data": {
      "text/plain": [
       "{'COG0012': '../fetchmgs/data/COG0012.hmm',\n",
       " 'COG0016': '../fetchmgs/data/COG0016.hmm',\n",
       " 'COG0018': '../fetchmgs/data/COG0018.hmm',\n",
       " 'COG0048': '../fetchmgs/data/COG0048.hmm',\n",
       " 'COG0049': '../fetchmgs/data/COG0049.hmm',\n",
       " 'COG0052': '../fetchmgs/data/COG0052.hmm',\n",
       " 'COG0080': '../fetchmgs/data/COG0080.hmm',\n",
       " 'COG0081': '../fetchmgs/data/COG0081.hmm',\n",
       " 'COG0085': '../fetchmgs/data/COG0085.hmm',\n",
       " 'COG0086': '../fetchmgs/data/COG0086.hmm',\n",
       " 'COG0087': '../fetchmgs/data/COG0087.hmm',\n",
       " 'COG0088': '../fetchmgs/data/COG0088.hmm',\n",
       " 'COG0090': '../fetchmgs/data/COG0090.hmm',\n",
       " 'COG0091': '../fetchmgs/data/COG0091.hmm',\n",
       " 'COG0092': '../fetchmgs/data/COG0092.hmm',\n",
       " 'COG0093': '../fetchmgs/data/COG0093.hmm',\n",
       " 'COG0094': '../fetchmgs/data/COG0094.hmm',\n",
       " 'COG0096': '../fetchmgs/data/COG0096.hmm',\n",
       " 'COG0097': '../fetchmgs/data/COG0097.hmm',\n",
       " 'COG0098': '../fetchmgs/data/COG0098.hmm',\n",
       " 'COG0099': '../fetchmgs/data/COG0099.hmm',\n",
       " 'COG0100': '../fetchmgs/data/COG0100.hmm',\n",
       " 'COG0102': '../fetchmgs/data/COG0102.hmm',\n",
       " 'COG0103': '../fetchmgs/data/COG0103.hmm',\n",
       " 'COG0124': '../fetchmgs/data/COG0124.hmm',\n",
       " 'COG0172': '../fetchmgs/data/COG0172.hmm',\n",
       " 'COG0184': '../fetchmgs/data/COG0184.hmm',\n",
       " 'COG0185': '../fetchmgs/data/COG0185.hmm',\n",
       " 'COG0186': '../fetchmgs/data/COG0186.hmm',\n",
       " 'COG0197': '../fetchmgs/data/COG0197.hmm',\n",
       " 'COG0200': '../fetchmgs/data/COG0200.hmm',\n",
       " 'COG0201': '../fetchmgs/data/COG0201.hmm',\n",
       " 'COG0202': '../fetchmgs/data/COG0202.hmm',\n",
       " 'COG0215': '../fetchmgs/data/COG0215.hmm',\n",
       " 'COG0256': '../fetchmgs/data/COG0256.hmm',\n",
       " 'COG0495': '../fetchmgs/data/COG0495.hmm',\n",
       " 'COG0522': '../fetchmgs/data/COG0522.hmm',\n",
       " 'COG0525': '../fetchmgs/data/COG0525.hmm',\n",
       " 'COG0533': '../fetchmgs/data/COG0533.hmm',\n",
       " 'COG0541': '../fetchmgs/data/COG0541.hmm',\n",
       " 'COG0552': '../fetchmgs/data/COG0552.hmm'}"
      ]
     },
     "execution_count": 5,
     "metadata": {},
     "output_type": "execute_result"
    }
   ],
   "source": [
    "hmms = {cog_file.split('/')[-1].replace('.hmm', ''):cog_file for cog_file in glob.glob('../fetchmgs/data/*.hmm')}\n",
    "hmms"
   ]
  },
  {
   "cell_type": "code",
   "execution_count": 6,
   "metadata": {},
   "outputs": [],
   "source": [
    "class FakeArgs:\n",
    "    \"\"\" Class required to interact with fetchMGs functions \"\"\"\n",
    "    def __init__(self, params):\n",
    "        self.file = params.get('file', '/homs/test/test_files/example_data.faa')\n",
    "        self.c    = params.get('c', 'all')               # COGs used, we consider the default 'all'\n",
    "        self.o    = params.get('o', '/tmp/fetchtest')    # Temporary directory to write the stuff\n",
    "        self.b    = params.get('b', None)                # Bitscore argument\n",
    "        self.l    = params.get('l', 'data')              # folder with the the hmm profiles to extract\n",
    "        self.p    = params.get('p', False)               # set if nucleotide sequences file for <protein sequences> is not available True/False\n",
    "        self.d    = params.get('d', None)                # multi-FASTA file with nucleotide sequences\n",
    "        self.v    = params.get('v', None)                # Very best hit argument\n",
    "        self.i    = params.get('i', None)                # if this option is set in addition to -v, the best hit of each COG will be selected\n",
    "        self.t    = params.get('t', None)                # Very best hit argument\n",
    "        self.x    = params.get('x', None)                # Very best hit argument\n",
    "        self.mode = params.get('mode', None)             # Calibration or extraction, in this tests we only evaluate extraction \n"
   ]
  },
  {
   "cell_type": "code",
   "execution_count": 7,
   "metadata": {},
   "outputs": [
    {
     "ename": "NameError",
     "evalue": "name 'import_files' is not defined",
     "output_type": "error",
     "traceback": [
      "\u001b[0;31m---------------------------------------------------------------------------\u001b[0m",
      "\u001b[0;31mNameError\u001b[0m                                 Traceback (most recent call last)",
      "\u001b[1;32m/home/smiravet/eth/fetchmgs_dev/test/test.ipynb Cell 6\u001b[0m in \u001b[0;36m<cell line: 1>\u001b[0;34m()\u001b[0m\n\u001b[0;32m----> <a href='vscode-notebook-cell://wsl%2Bubuntu/home/smiravet/eth/fetchmgs_dev/test/test.ipynb#W5sdnNjb2RlLXJlbW90ZQ%3D%3D?line=0'>1</a>\u001b[0m hmms, cutoffsb, valid_map, prot_records, nucl_records \u001b[39m=\u001b[39m import_files(FakeArgs({\u001b[39m'\u001b[39m\u001b[39mmode\u001b[39m\u001b[39m'\u001b[39m:\u001b[39m'\u001b[39m\u001b[39mextraction\u001b[39m\u001b[39m'\u001b[39m,\n\u001b[1;32m      <a href='vscode-notebook-cell://wsl%2Bubuntu/home/smiravet/eth/fetchmgs_dev/test/test.ipynb#W5sdnNjb2RlLXJlbW90ZQ%3D%3D?line=1'>2</a>\u001b[0m                                                                               \u001b[39m'\u001b[39m\u001b[39mv\u001b[39m\u001b[39m'\u001b[39m:\u001b[39mTrue\u001b[39;00m,\n\u001b[1;32m      <a href='vscode-notebook-cell://wsl%2Bubuntu/home/smiravet/eth/fetchmgs_dev/test/test.ipynb#W5sdnNjb2RlLXJlbW90ZQ%3D%3D?line=2'>3</a>\u001b[0m                                                                               \u001b[39m'\u001b[39m\u001b[39mfile\u001b[39m\u001b[39m'\u001b[39m: \u001b[39m'\u001b[39m\u001b[39m/home/smiravet/eth/fetchmgs_dev/test/test_files/example_data.faa\u001b[39m\u001b[39m'\u001b[39m}))\n",
      "\u001b[0;31mNameError\u001b[0m: name 'import_files' is not defined"
     ]
    }
   ],
   "source": [
    "hmms, cutoffsb, valid_map, prot_records, nucl_records = import_files(FakeArgs({'mode':'extraction',\n",
    "                                                                              'v':True,\n",
    "                                                                              'file': '/home/smiravet/eth/fetchmgs_dev/test/test_files/example_data.faa'}))\n",
    "#results, hit_ids = extraction(FakeArgs({'mode':'extraction','file': '/home/smiravet/eth/fetchmgs_dev/test/test_files/example_data.faa'}), hmms, cutoffs)"
   ]
  },
  {
   "cell_type": "code",
   "execution_count": 8,
   "metadata": {},
   "outputs": [],
   "source": [
    "class FakeArgs:\n",
    "    \"\"\" Class required to interact with fetchMGs functions \"\"\"\n",
    "    def __init__(self, params):\n",
    "        self.b    = params.get('b', None)    # Bitscore argument\n",
    "        self.v    = params.get('v', None)    # Very best hit argument\n",
    "        self.mode = params.get('mode', 'extraction') # Calibration or extraction, in this tests we only evaluate extraction \n",
    "        self.c    = params.get('c', 'all')   # COGs used, we consider the default 'all'\n",
    "\n",
    "def return_hmms_and_cuttofs():\n",
    "    \"\"\"\n",
    "    Returns hmms and default BitScoreCutoffs for allhits and verybest hit\n",
    "    ignores uncalibrated file used in calibration functions\n",
    "    \"\"\"\n",
    "    hmms, cutoffs, valid_map, prot_records, nucl_records = import_files(FakeArgs())\n",
    "\n",
    "    return [parse_cutoffs(FakeArgs({'b':PARENT_DIR+'/data/MG_BitScoreCutoffs.allhits.txt'})),\n",
    "            parse_cutoffs(FakeArgs({'b':PARENT_DIR+'/data/MG_BitScoreCutoffs.verybesthit.txt', 'v':True}))]\n"
   ]
  },
  {
   "cell_type": "code",
   "execution_count": 28,
   "metadata": {},
   "outputs": [],
   "source": [
    "import subprocess\n",
    "def run_hmmsearch(hmm, hmm_path, cutoff, fil):\n",
    "    '''\n",
    "    Run hmmsearch from HMMER3, one hmm file against one set of protein records, then parse the results.\n",
    "    '''\n",
    "    hmmsearch_path = 'hmmsearch'\n",
    "    out_path = f'test_output2/{hmm}.out'\n",
    "    tbl_path = f'test_output2/{hmm}.dom'\n",
    "    try:\n",
    "        subprocess.run(f'{hmmsearch_path} --noali --notextw --cpu 1 -T {cutoff} -o {out_path} --domtblout {tbl_path} {hmm_path} {fil}', shell=True)\n",
    "    except subprocess.CalledProcessError as err:\n",
    "        sys.stderr.write(f'\\t{err}\\n')\n",
    "        sys.exit(1)\n",
    "    results = parse_hmmsearch(tbl_path)\n",
    "    return(results)"
   ]
  },
  {
   "cell_type": "code",
   "execution_count": 31,
   "metadata": {},
   "outputs": [
    {
     "name": "stdout",
     "output_type": "stream",
     "text": [
      "    COG0012\n",
      "    COG0016\n",
      "    COG0018\n",
      "    COG0048\n",
      "    COG0049\n",
      "    COG0052\n",
      "    COG0080\n",
      "    COG0081\n",
      "    COG0085\n",
      "    COG0086\n",
      "    COG0087\n",
      "    COG0088\n",
      "    COG0090\n",
      "    COG0091\n",
      "    COG0092\n",
      "    COG0093\n",
      "    COG0094\n",
      "    COG0096\n",
      "    COG0097\n",
      "    COG0098\n",
      "    COG0099\n",
      "    COG0100\n",
      "    COG0102\n",
      "    COG0103\n",
      "    COG0124\n",
      "    COG0172\n",
      "    COG0184\n",
      "    COG0185\n",
      "    COG0186\n",
      "    COG0197\n",
      "    COG0200\n",
      "    COG0201\n",
      "    COG0202\n",
      "    COG0215\n",
      "    COG0256\n",
      "    COG0495\n",
      "    COG0522\n",
      "    COG0525\n",
      "    COG0533\n",
      "    COG0541\n",
      "    COG0552\n"
     ]
    }
   ],
   "source": [
    "results = {}\n",
    "for hmm in hmms.keys():\n",
    "    sys.stdout.write(f'    {hmm}\\n')\n",
    "    results[hmm] = run_hmmsearch(hmm, hmms[hmm], cutoffs['besthits'][hmm], './test_data/example_data_genomes.faa')\n",
    "hit_ids = [k for result in results.values() for k in result.keys()]"
   ]
  },
  {
   "cell_type": "code",
   "execution_count": 16,
   "metadata": {},
   "outputs": [
    {
     "data": {
      "text/plain": [
       "{'1089456.NCGM2_0913': 562.1,\n",
       " '1037409.BJ6T_18600': 543.8,\n",
       " '1148.SYNGTS_1374': 541.3,\n",
       " '944546.ABED_0682': 520.7,\n",
       " '944547.ABLL_0922': 516.8}"
      ]
     },
     "execution_count": 16,
     "metadata": {},
     "output_type": "execute_result"
    }
   ],
   "source": [
    "results['COG0012']"
   ]
  },
  {
   "cell_type": "code",
   "execution_count": 11,
   "metadata": {},
   "outputs": [],
   "source": [
    "assert [row for row in open('./test_output/COG0522.out') if row[0]!='#'] == [row for row in open('./example_output/hmmResults/COG0522.out') if row[0]!='#']\n"
   ]
  },
  {
   "cell_type": "code",
   "execution_count": 18,
   "metadata": {},
   "outputs": [],
   "source": [
    "import tempfile\n",
    "defult_tmp_dir = tempfile._get_default_tempdir()\n"
   ]
  },
  {
   "cell_type": "code",
   "execution_count": 7,
   "metadata": {},
   "outputs": [],
   "source": [
    "TMP_DIR        = tempfile.TemporaryDirectory()\n"
   ]
  },
  {
   "cell_type": "code",
   "execution_count": 8,
   "metadata": {},
   "outputs": [
    {
     "data": {
      "text/plain": [
       "<TemporaryDirectory '/tmp/tmpfm7f8kn5'>"
      ]
     },
     "execution_count": 8,
     "metadata": {},
     "output_type": "execute_result"
    }
   ],
   "source": [
    "TMP_DIR"
   ]
  },
  {
   "cell_type": "code",
   "execution_count": 6,
   "metadata": {},
   "outputs": [
    {
     "name": "stdout",
     "output_type": "stream",
     "text": [
      "hello\n",
      "\n",
      "created temporary directory /tmp/tmp4imc95ln\n"
     ]
    }
   ],
   "source": [
    "import tempfile\n",
    "\n",
    "with tempfile.TemporaryDirectory() as tmpdirname:\n",
    "    os.system(f'echo \"hello\" > {tmpdirname}/kkk.txt')\n",
    "    with open(f'{tmpdirname}/kkk.txt') as fi:\n",
    "        for line in fi:\n",
    "            print(line)\n",
    "    print('created temporary directory', tmpdirname)"
   ]
  },
  {
   "cell_type": "code",
   "execution_count": 9,
   "metadata": {},
   "outputs": [],
   "source": [
    "cutoffs = {\"allhits\" : parse_cutoffs(FakeArgs({'b':f'{PARENT_DIR}/data/MG_BitScoreCutoffs.allhits.txt'})), \n",
    "           \"besthits\": parse_cutoffs(FakeArgs({'b':f'{PARENT_DIR}/data/MG_BitScoreCutoffs.verybesthit.txt', 'v':True}))}"
   ]
  },
  {
   "cell_type": "code",
   "execution_count": 39,
   "metadata": {},
   "outputs": [],
   "source": [
    "import os\n",
    "import sys\n",
    "import glob\n",
    "import pytest\n",
    "import tempfile\n",
    "from pathlib import Path\n",
    "\n",
    "# Directories required, modify if package structure changes\n",
    "TEST_DIR       = './'\n",
    "PARENT_DIR     = f'{TEST_DIR}/../fetchmgs'         # Points to the package directory\n",
    "EXAMPLE_DIR    = f'{TEST_DIR}/example_output/hmmResults/'      # HMM search example to be compared with tests\n",
    "TEST_FILE      = f'{TEST_DIR}/test_data/example_data_genomes.faa'\n",
    "\n",
    "# Load fetchMGs functions\n",
    "sys.path.insert(0, PARENT_DIR) \n",
    "from fetchMGs import run_hmmsearch, parse_cutoffs, parse_hmmsearch, extraction\n",
    "\n",
    "# Locate the HMMSearch binary\n",
    "HMMSEARCH_BIN  = f'{TEST_DIR}/../fetchmgs/bin/hmmsearch'    # Points to the hmmsearch bin in fetchmgs/bin\n",
    "HMMSEARCH_BIN  = 'hmmsearch'    # Points to the hmmsearch bin in fetchmgs/bin\n",
    "\n",
    "cutoffs = {\"allhits\" : parse_cutoffs(FakeArgs({'b':f'{PARENT_DIR}/data/MG_BitScoreCutoffs.allhits.txt'})), \n",
    "           \"besthits\": parse_cutoffs(FakeArgs({'b':f'{PARENT_DIR}/data/MG_BitScoreCutoffs.verybesthit.txt', 'v':True}))}\n",
    "hmms    = {cog_file.split('/')[-1].replace('.hmm', ''):cog_file for cog_file in glob.glob(f'{PARENT_DIR}/data/*.hmm')}   # This searches for all the hmm files in /data\n",
    "\n",
    "\n",
    "@pytest.fixture\n",
    "def results_allhits():\n",
    "    return {hmm:parse_hmmsearch(f'{TEST_DIR}/example_output/hmmResults/{hmm}.dom') for hmm in hmms.keys()}\n",
    "\n",
    "def test_run_hmmsearch_allhits():\n",
    "    \"\"\" \n",
    "    Test hmmsearch works and it returns the same files for each hmm search when using the allhits cutoffs\n",
    "    \"\"\"  \n",
    "    # Run hmmsearch with allhits\n",
    "    test_doms = {}\n",
    "    with tempfile.TemporaryDirectory() as tmpdirname:\n",
    "        for hmm, hmm_path in hmms.items():\n",
    "            out_path = os.path.join(tmpdirname, f'{hmm}.out')\n",
    "            tbl_path = os.path.join(tmpdirname, f'{hmm}.dom')\n",
    "            print(out_path)\n",
    "            cutoff   = cutoffs['allhits'][hmm]\n",
    "            cmd = f'{HMMSEARCH_BIN} --noali --notextw --cpu 1 -T {cutoff} -o {out_path} --domtblout {tbl_path} {hmm_path} {TEST_FILE}'\n",
    "            os.system(cmd)\n",
    "            test_doms[hmm] = parse_hmmsearch(tbl_path)\n",
    "    return test_doms"
   ]
  },
  {
   "cell_type": "code",
   "execution_count": 44,
   "metadata": {},
   "outputs": [
    {
     "name": "stdout",
     "output_type": "stream",
     "text": [
      "/tmp/tmp4imc95ln/COG0012.out\n",
      "/tmp/tmp4imc95ln/COG0016.out\n",
      "/tmp/tmp4imc95ln/COG0018.out\n",
      "/tmp/tmp4imc95ln/COG0048.out\n",
      "/tmp/tmp4imc95ln/COG0049.out\n",
      "/tmp/tmp4imc95ln/COG0052.out\n",
      "/tmp/tmp4imc95ln/COG0080.out\n",
      "/tmp/tmp4imc95ln/COG0081.out\n",
      "/tmp/tmp4imc95ln/COG0085.out\n",
      "/tmp/tmp4imc95ln/COG0086.out\n",
      "/tmp/tmp4imc95ln/COG0087.out\n",
      "/tmp/tmp4imc95ln/COG0088.out\n",
      "/tmp/tmp4imc95ln/COG0090.out\n",
      "/tmp/tmp4imc95ln/COG0091.out\n",
      "/tmp/tmp4imc95ln/COG0092.out\n",
      "/tmp/tmp4imc95ln/COG0093.out\n",
      "/tmp/tmp4imc95ln/COG0094.out\n",
      "/tmp/tmp4imc95ln/COG0096.out\n"
     ]
    },
    {
     "name": "stderr",
     "output_type": "stream",
     "text": [
      "\n",
      "Error: Failed to open output file /tmp/tmp4imc95ln/COG0012.out for writing\n",
      "\n",
      "\n",
      "Error: Failed to open output file /tmp/tmp4imc95ln/COG0016.out for writing\n",
      "\n",
      "\n",
      "Error: Failed to open output file /tmp/tmp4imc95ln/COG0018.out for writing\n",
      "\n",
      "\n",
      "Error: Failed to open output file /tmp/tmp4imc95ln/COG0048.out for writing\n",
      "\n",
      "\n",
      "Error: Failed to open output file /tmp/tmp4imc95ln/COG0049.out for writing\n",
      "\n",
      "\n",
      "Error: Failed to open output file /tmp/tmp4imc95ln/COG0052.out for writing\n",
      "\n",
      "\n",
      "Error: Failed to open output file /tmp/tmp4imc95ln/COG0080.out for writing\n",
      "\n",
      "\n",
      "Error: Failed to open output file /tmp/tmp4imc95ln/COG0081.out for writing\n",
      "\n",
      "\n",
      "Error: Failed to open output file /tmp/tmp4imc95ln/COG0085.out for writing\n",
      "\n",
      "\n",
      "Error: Failed to open output file /tmp/tmp4imc95ln/COG0086.out for writing\n",
      "\n",
      "\n",
      "Error: Failed to open output file /tmp/tmp4imc95ln/COG0087.out for writing\n",
      "\n",
      "\n",
      "Error: Failed to open output file /tmp/tmp4imc95ln/COG0088.out for writing\n",
      "\n",
      "\n",
      "Error: Failed to open output file /tmp/tmp4imc95ln/COG0090.out for writing\n",
      "\n",
      "\n",
      "Error: Failed to open output file /tmp/tmp4imc95ln/COG0091.out for writing\n",
      "\n",
      "\n",
      "Error: Failed to open output file /tmp/tmp4imc95ln/COG0092.out for writing\n",
      "\n",
      "\n",
      "Error: Failed to open output file /tmp/tmp4imc95ln/COG0093.out for writing\n",
      "\n",
      "\n",
      "Error: Failed to open output file /tmp/tmp4imc95ln/COG0094.out for writing\n",
      "\n",
      "\n",
      "Error: Failed to open output file /tmp/tmp4imc95ln/COG0096.out for writing\n",
      "\n",
      "\n",
      "Error: Failed to open output file /tmp/tmp4imc95ln/COG0097.out for writing\n",
      "\n"
     ]
    },
    {
     "name": "stdout",
     "output_type": "stream",
     "text": [
      "/tmp/tmp4imc95ln/COG0097.out\n",
      "/tmp/tmp4imc95ln/COG0098.out\n",
      "/tmp/tmp4imc95ln/COG0099.out\n",
      "/tmp/tmp4imc95ln/COG0100.out\n",
      "/tmp/tmp4imc95ln/COG0102.out\n",
      "/tmp/tmp4imc95ln/COG0103.out\n",
      "/tmp/tmp4imc95ln/COG0124.out\n",
      "/tmp/tmp4imc95ln/COG0172.out\n",
      "/tmp/tmp4imc95ln/COG0184.out\n",
      "/tmp/tmp4imc95ln/COG0185.out\n",
      "/tmp/tmp4imc95ln/COG0186.out\n",
      "/tmp/tmp4imc95ln/COG0197.out\n",
      "/tmp/tmp4imc95ln/COG0200.out\n",
      "/tmp/tmp4imc95ln/COG0201.out\n",
      "/tmp/tmp4imc95ln/COG0202.out\n",
      "/tmp/tmp4imc95ln/COG0215.out\n",
      "/tmp/tmp4imc95ln/COG0256.out\n",
      "/tmp/tmp4imc95ln/COG0495.out\n"
     ]
    },
    {
     "name": "stderr",
     "output_type": "stream",
     "text": [
      "\n",
      "Error: Failed to open output file /tmp/tmp4imc95ln/COG0098.out for writing\n",
      "\n",
      "\n",
      "Error: Failed to open output file /tmp/tmp4imc95ln/COG0099.out for writing\n",
      "\n",
      "\n",
      "Error: Failed to open output file /tmp/tmp4imc95ln/COG0100.out for writing\n",
      "\n",
      "\n",
      "Error: Failed to open output file /tmp/tmp4imc95ln/COG0102.out for writing\n",
      "\n",
      "\n",
      "Error: Failed to open output file /tmp/tmp4imc95ln/COG0103.out for writing\n",
      "\n",
      "\n",
      "Error: Failed to open output file /tmp/tmp4imc95ln/COG0124.out for writing\n",
      "\n",
      "\n",
      "Error: Failed to open output file /tmp/tmp4imc95ln/COG0172.out for writing\n",
      "\n",
      "\n",
      "Error: Failed to open output file /tmp/tmp4imc95ln/COG0184.out for writing\n",
      "\n",
      "\n",
      "Error: Failed to open output file /tmp/tmp4imc95ln/COG0185.out for writing\n",
      "\n",
      "\n",
      "Error: Failed to open output file /tmp/tmp4imc95ln/COG0186.out for writing\n",
      "\n",
      "\n",
      "Error: Failed to open output file /tmp/tmp4imc95ln/COG0197.out for writing\n",
      "\n",
      "\n",
      "Error: Failed to open output file /tmp/tmp4imc95ln/COG0200.out for writing\n",
      "\n",
      "\n",
      "Error: Failed to open output file /tmp/tmp4imc95ln/COG0201.out for writing\n",
      "\n",
      "\n",
      "Error: Failed to open output file /tmp/tmp4imc95ln/COG0202.out for writing\n",
      "\n",
      "\n",
      "Error: Failed to open output file /tmp/tmp4imc95ln/COG0215.out for writing\n",
      "\n",
      "\n",
      "Error: Failed to open output file /tmp/tmp4imc95ln/COG0256.out for writing\n",
      "\n",
      "\n",
      "Error: Failed to open output file /tmp/tmp4imc95ln/COG0495.out for writing\n",
      "\n",
      "\n",
      "Error: Failed to open output file /tmp/tmp4imc95ln/COG0522.out for writing\n",
      "\n"
     ]
    },
    {
     "name": "stdout",
     "output_type": "stream",
     "text": [
      "/tmp/tmp4imc95ln/COG0522.out\n",
      "/tmp/tmp4imc95ln/COG0525.out\n",
      "/tmp/tmp4imc95ln/COG0533.out\n",
      "/tmp/tmp4imc95ln/COG0541.out\n",
      "/tmp/tmp4imc95ln/COG0552.out\n"
     ]
    },
    {
     "name": "stderr",
     "output_type": "stream",
     "text": [
      "\n",
      "Error: Failed to open output file /tmp/tmp4imc95ln/COG0525.out for writing\n",
      "\n",
      "\n",
      "Error: Failed to open output file /tmp/tmp4imc95ln/COG0533.out for writing\n",
      "\n",
      "\n",
      "Error: Failed to open output file /tmp/tmp4imc95ln/COG0541.out for writing\n",
      "\n",
      "\n",
      "Error: Failed to open output file /tmp/tmp4imc95ln/COG0552.out for writing\n",
      "\n"
     ]
    }
   ],
   "source": [
    "for hmm, hmm_path in hmms.items():\n",
    "    out_path = os.path.join('/home/smiravet/eth/fetchmgs_dev/test/example_output_besthits/hmmResults', f'{hmm}.out')\n",
    "    tbl_path = os.path.join('/home/smiravet/eth/fetchmgs_dev/test/example_output_besthits/hmmResults', f'{hmm}.dom')\n",
    "    print(out_path)\n",
    "    cutoff   = cutoffs['besthits'][hmm]\n",
    "    cmd = f'{HMMSEARCH_BIN} --noali --notextw --cpu 1 -T {cutoff} -o {out_path} --domtblout {tbl_path} {hmm_path} {TEST_FILE}'\n",
    "    os.system(cmd)"
   ]
  },
  {
   "cell_type": "code",
   "execution_count": 40,
   "metadata": {},
   "outputs": [
    {
     "name": "stdout",
     "output_type": "stream",
     "text": [
      "/tmp/tmpsi0s1qiv/COG0012.out\n",
      "/tmp/tmpsi0s1qiv/COG0016.out\n",
      "/tmp/tmpsi0s1qiv/COG0018.out\n",
      "/tmp/tmpsi0s1qiv/COG0048.out\n",
      "/tmp/tmpsi0s1qiv/COG0049.out\n",
      "/tmp/tmpsi0s1qiv/COG0052.out\n",
      "/tmp/tmpsi0s1qiv/COG0080.out\n",
      "/tmp/tmpsi0s1qiv/COG0081.out\n",
      "/tmp/tmpsi0s1qiv/COG0085.out\n",
      "/tmp/tmpsi0s1qiv/COG0086.out\n",
      "/tmp/tmpsi0s1qiv/COG0087.out\n",
      "/tmp/tmpsi0s1qiv/COG0088.out\n",
      "/tmp/tmpsi0s1qiv/COG0090.out\n",
      "/tmp/tmpsi0s1qiv/COG0091.out\n",
      "/tmp/tmpsi0s1qiv/COG0092.out\n",
      "/tmp/tmpsi0s1qiv/COG0093.out\n",
      "/tmp/tmpsi0s1qiv/COG0094.out\n",
      "/tmp/tmpsi0s1qiv/COG0096.out\n",
      "/tmp/tmpsi0s1qiv/COG0097.out\n",
      "/tmp/tmpsi0s1qiv/COG0098.out\n",
      "/tmp/tmpsi0s1qiv/COG0099.out\n",
      "/tmp/tmpsi0s1qiv/COG0100.out\n",
      "/tmp/tmpsi0s1qiv/COG0102.out\n",
      "/tmp/tmpsi0s1qiv/COG0103.out\n",
      "/tmp/tmpsi0s1qiv/COG0124.out\n",
      "/tmp/tmpsi0s1qiv/COG0172.out\n",
      "/tmp/tmpsi0s1qiv/COG0184.out\n",
      "/tmp/tmpsi0s1qiv/COG0185.out\n",
      "/tmp/tmpsi0s1qiv/COG0186.out\n",
      "/tmp/tmpsi0s1qiv/COG0197.out\n",
      "/tmp/tmpsi0s1qiv/COG0200.out\n",
      "/tmp/tmpsi0s1qiv/COG0201.out\n",
      "/tmp/tmpsi0s1qiv/COG0202.out\n",
      "/tmp/tmpsi0s1qiv/COG0215.out\n",
      "/tmp/tmpsi0s1qiv/COG0256.out\n",
      "/tmp/tmpsi0s1qiv/COG0495.out\n",
      "/tmp/tmpsi0s1qiv/COG0522.out\n",
      "/tmp/tmpsi0s1qiv/COG0525.out\n",
      "/tmp/tmpsi0s1qiv/COG0533.out\n",
      "/tmp/tmpsi0s1qiv/COG0541.out\n",
      "/tmp/tmpsi0s1qiv/COG0552.out\n"
     ]
    }
   ],
   "source": [
    "ad = {hmm:parse_hmmsearch(f'{TEST_DIR}/example_output/hmmResults/{hmm}.dom') for hmm in hmms.keys()}\n",
    "bd = test_run_hmmsearch_allhits()"
   ]
  },
  {
   "cell_type": "code",
   "execution_count": 43,
   "metadata": {},
   "outputs": [
    {
     "data": {
      "text/plain": [
       "True"
      ]
     },
     "execution_count": 43,
     "metadata": {},
     "output_type": "execute_result"
    }
   ],
   "source": [
    "ad==bd"
   ]
  },
  {
   "cell_type": "code",
   "execution_count": 38,
   "metadata": {},
   "outputs": [
    {
     "name": "stdout",
     "output_type": "stream",
     "text": [
      "/tmp/tmp6knw3xmw/COG0012.out\n",
      "/tmp/tmp6knw3xmw/COG0016.out\n",
      "/tmp/tmp6knw3xmw/COG0018.out\n",
      "/tmp/tmp6knw3xmw/COG0048.out\n",
      "/tmp/tmp6knw3xmw/COG0049.out\n",
      "/tmp/tmp6knw3xmw/COG0052.out\n",
      "/tmp/tmp6knw3xmw/COG0080.out\n",
      "/tmp/tmp6knw3xmw/COG0081.out\n",
      "/tmp/tmp6knw3xmw/COG0085.out\n",
      "/tmp/tmp6knw3xmw/COG0086.out\n",
      "/tmp/tmp6knw3xmw/COG0087.out\n",
      "/tmp/tmp6knw3xmw/COG0088.out\n",
      "/tmp/tmp6knw3xmw/COG0090.out\n",
      "/tmp/tmp6knw3xmw/COG0091.out\n",
      "/tmp/tmp6knw3xmw/COG0092.out\n",
      "/tmp/tmp6knw3xmw/COG0093.out\n",
      "/tmp/tmp6knw3xmw/COG0094.out\n",
      "/tmp/tmp6knw3xmw/COG0096.out\n",
      "/tmp/tmp6knw3xmw/COG0097.out\n",
      "/tmp/tmp6knw3xmw/COG0098.out\n",
      "/tmp/tmp6knw3xmw/COG0099.out\n",
      "/tmp/tmp6knw3xmw/COG0100.out\n",
      "/tmp/tmp6knw3xmw/COG0102.out\n",
      "/tmp/tmp6knw3xmw/COG0103.out\n",
      "/tmp/tmp6knw3xmw/COG0124.out\n",
      "/tmp/tmp6knw3xmw/COG0172.out\n",
      "/tmp/tmp6knw3xmw/COG0184.out\n",
      "/tmp/tmp6knw3xmw/COG0185.out\n",
      "/tmp/tmp6knw3xmw/COG0186.out\n",
      "/tmp/tmp6knw3xmw/COG0197.out\n",
      "/tmp/tmp6knw3xmw/COG0200.out\n",
      "/tmp/tmp6knw3xmw/COG0201.out\n",
      "/tmp/tmp6knw3xmw/COG0202.out\n",
      "/tmp/tmp6knw3xmw/COG0215.out\n",
      "/tmp/tmp6knw3xmw/COG0256.out\n",
      "/tmp/tmp6knw3xmw/COG0495.out\n",
      "/tmp/tmp6knw3xmw/COG0522.out\n",
      "/tmp/tmp6knw3xmw/COG0525.out\n",
      "/tmp/tmp6knw3xmw/COG0533.out\n",
      "/tmp/tmp6knw3xmw/COG0541.out\n",
      "/tmp/tmp6knw3xmw/COG0552.out\n"
     ]
    },
    {
     "ename": "Failed",
     "evalue": "Fixture \"results_allhits\" called directly. Fixtures are not meant to be called directly,\nbut are created automatically when test functions request them as parameters.\nSee https://docs.pytest.org/en/stable/explanation/fixtures.html for more information about fixtures, and\nhttps://docs.pytest.org/en/stable/deprecations.html#calling-fixtures-directly about how to update your code.",
     "output_type": "error",
     "traceback": [
      "\u001b[0;31m---------------------------------------------------------------------------\u001b[0m",
      "\u001b[0;31mFailed\u001b[0m                                    Traceback (most recent call last)",
      "\u001b[1;32m/home/smiravet/eth/fetchmgs_dev/test/test.ipynb Cell 20\u001b[0m in \u001b[0;36m<cell line: 1>\u001b[0;34m()\u001b[0m\n\u001b[0;32m----> <a href='vscode-notebook-cell://wsl%2Bubuntu/home/smiravet/eth/fetchmgs_dev/test/test.ipynb#X26sdnNjb2RlLXJlbW90ZQ%3D%3D?line=0'>1</a>\u001b[0m test_run_hmmsearch_allhits()\n",
      "\u001b[1;32m/home/smiravet/eth/fetchmgs_dev/test/test.ipynb Cell 20\u001b[0m in \u001b[0;36mtest_run_hmmsearch_allhits\u001b[0;34m()\u001b[0m\n\u001b[1;32m     <a href='vscode-notebook-cell://wsl%2Bubuntu/home/smiravet/eth/fetchmgs_dev/test/test.ipynb#X26sdnNjb2RlLXJlbW90ZQ%3D%3D?line=43'>44</a>\u001b[0m         os\u001b[39m.\u001b[39msystem(cmd)\n\u001b[1;32m     <a href='vscode-notebook-cell://wsl%2Bubuntu/home/smiravet/eth/fetchmgs_dev/test/test.ipynb#X26sdnNjb2RlLXJlbW90ZQ%3D%3D?line=44'>45</a>\u001b[0m         test_doms[hmm] \u001b[39m=\u001b[39m parse_hmmsearch(tbl_path)\n\u001b[0;32m---> <a href='vscode-notebook-cell://wsl%2Bubuntu/home/smiravet/eth/fetchmgs_dev/test/test.ipynb#X26sdnNjb2RlLXJlbW90ZQ%3D%3D?line=45'>46</a>\u001b[0m \u001b[39massert\u001b[39;00m test_doms\u001b[39m==\u001b[39mresults_allhits()\n",
      "File \u001b[0;32m~/.local/lib/python3.8/site-packages/_pytest/fixtures.py:1169\u001b[0m, in \u001b[0;36mwrap_function_to_error_out_if_called_directly.<locals>.result\u001b[0;34m(*args, **kwargs)\u001b[0m\n\u001b[1;32m   1167\u001b[0m \u001b[39m@functools\u001b[39m\u001b[39m.\u001b[39mwraps(function)\n\u001b[1;32m   1168\u001b[0m \u001b[39mdef\u001b[39;00m \u001b[39mresult\u001b[39m(\u001b[39m*\u001b[39margs, \u001b[39m*\u001b[39m\u001b[39m*\u001b[39mkwargs):\n\u001b[0;32m-> 1169\u001b[0m     fail(message, pytrace\u001b[39m=\u001b[39;49m\u001b[39mFalse\u001b[39;49;00m)\n",
      "File \u001b[0;32m~/.local/lib/python3.8/site-packages/_pytest/outcomes.py:194\u001b[0m, in \u001b[0;36mfail\u001b[0;34m(reason, pytrace, msg)\u001b[0m\n\u001b[1;32m    192\u001b[0m __tracebackhide__ \u001b[39m=\u001b[39m \u001b[39mTrue\u001b[39;00m\n\u001b[1;32m    193\u001b[0m reason \u001b[39m=\u001b[39m _resolve_msg_to_reason(\u001b[39m\"\u001b[39m\u001b[39mfail\u001b[39m\u001b[39m\"\u001b[39m, reason, msg)\n\u001b[0;32m--> 194\u001b[0m \u001b[39mraise\u001b[39;00m Failed(msg\u001b[39m=\u001b[39mreason, pytrace\u001b[39m=\u001b[39mpytrace)\n",
      "\u001b[0;31mFailed\u001b[0m: Fixture \"results_allhits\" called directly. Fixtures are not meant to be called directly,\nbut are created automatically when test functions request them as parameters.\nSee https://docs.pytest.org/en/stable/explanation/fixtures.html for more information about fixtures, and\nhttps://docs.pytest.org/en/stable/deprecations.html#calling-fixtures-directly about how to update your code."
     ]
    }
   ],
   "source": [
    "test_run_hmmsearch_allhits()"
   ]
  },
  {
   "cell_type": "code",
   "execution_count": null,
   "metadata": {},
   "outputs": [],
   "source": [
    "\n",
    "dom_output_test_files = glob.glob('./test_output/*.dom')\n",
    "@pytest.mark.parametrize(\"item\", dom_output_test_files)\n",
    "def test_dom_output_allhits(item):\n",
    "    \"\"\" Test hmmer domain files match the expected output \"\"\"\n",
    "    cog = item.split('/')[-1].replace('.dom', '')\n",
    "    assert [row for row in open(item) if row[0]!='#'] == [row for row in open(f'./output/hmmResults/{cog}.dom') if row[0]!='#']\n",
    "\n",
    "\n",
    "\n",
    "\n",
    "def run_hmmsearch(hmm, hmm_path, cutoff, args):\n",
    "    '''\n",
    "    Run hmmsearch from HMMER3, one hmm file against one set of protein records, then parse the results.\n",
    "    '''\n",
    "    hmmsearch_path = os.path.join(args.x, 'hmmsearch')\n",
    "    out_path = os.path.join(args.o, f'hmmResults/{hmm}.out')\n",
    "    tbl_path = os.path.join(args.o, f'hmmResults/{hmm}.dom')\n",
    "    try:\n",
    "        subprocess.run(f'{hmmsearch_path} --noali --notextw --cpu {args.t} -T {cutoff} -o {out_path} --domtblout {tbl_path} {hmm_path} {args.file}', shell=True)\n",
    "    except subprocess.CalledProcessError as err:\n",
    "        sys.stderr.write(f'\\t{err}\\n')\n",
    "        sys.exit(1)\n",
    "    results = parse_hmmsearch(tbl_path)\n",
    "    return(results)\n",
    "\n",
    "def test_extraction_all_hits():\n",
    "    \"\"\" Test extraction mode considering all_hits \"\"\"\n",
    "    cutoffs = cutoffs['allhits']\n",
    "\n",
    "\n",
    "\n",
    "def test_extraction_best_hits_multiple_genomes():\n",
    "    \"\"\" Test extraction mode considering best_hits getting tax_ids when multiple genomes \"\"\"\n",
    "    cutoffs = cutoffs['besthits']\n",
    "\n",
    "\n",
    "def test_extraction_best_hits_single_genome():\n",
    "    \"\"\" Test extraction mode considering best_hits and tax_ids = 1 \"\"\"\n",
    "    cutoffs = cutoffs['besthits']\n",
    "\n",
    "\n",
    "\n",
    "def extraction(args, hmms, cutoffs):\n",
    "    # Go through HMMs and save results\n",
    "    results = {}\n",
    "    for hmm in hmms.keys():\n",
    "        sys.stdout.write(f'    {hmm}\\n')\n",
    "        results[hmm] = run_hmmsearch(hmm, hmms[hmm], cutoffs[hmm], args)\n",
    "    hit_ids = [k for result in results.values() for k in result.keys()]\n",
    "    \n",
    "    # Get tax_ids if there are multiple genomes\n",
    "    if not args.i:\n",
    "        if len(hit_ids[0].split(\".\")) > 1:\n",
    "            tax_ids = set(x.split(\".\")[0] for x in hit_ids)\n",
    "        else:\n",
    "            tax_ids = None\n",
    "\n",
    "    # Filter if -v\n",
    "    if args.v:\n",
    "        for hmm in hmms.keys():\n",
    "            if tax_ids is not None:\n",
    "                for tax_id in tax_ids:\n",
    "                    genome_results = {k:v for k,v in results[hmm].items() if k.split(\".\")[0]==tax_id}\n",
    "                    best_hit = max(genome_results, key=genome_results.get)\n",
    "                    [results[hmm].pop(k) for k in genome_results.keys() if k != best_hit]\n",
    "            else:\n",
    "                best_hit = max(results[hmm], key=results[hmm].get)\n",
    "                results[hmm] = {best_hit:results[hmm][best_hit]}\n",
    "\n",
    "    return(results, hit_ids)\n",
    "\n",
    "def main():\n",
    "    # Possible structural changes:\n",
    "    #   Move makedirs to import_files (change name to setup or something)\n",
    "    #   Move import of valid map to calibrate function\n",
    "\n",
    "    args = cli()\n",
    "\n",
    "    # Create output directories before running HMMER\n",
    "    os.makedirs(args.o, exist_ok=True)\n",
    "    os.makedirs(os.path.join(args.o, 'hmmResults'), exist_ok=True)\n",
    "\n",
    "    hmms, cutoffs, valid_map, prot_records, nucl_records = import_files(args)\n",
    "\n",
    "    results, hit_ids = extraction(args, hmms, cutoffs)\n",
    "\n",
    "    if args.mode == 'calibration':\n",
    "        new_cutoffs = calibration(args, results, valid_map)\n",
    "        output_cutoffs(args, new_cutoffs)\n",
    "\n",
    "    output_results(args, hmms, results, hit_ids, prot_records, nucl_records)"
   ]
  }
 ],
 "metadata": {
  "kernelspec": {
   "display_name": "Python 3",
   "language": "python",
   "name": "python3"
  },
  "language_info": {
   "codemirror_mode": {
    "name": "ipython",
    "version": 3
   },
   "file_extension": ".py",
   "mimetype": "text/x-python",
   "name": "python",
   "nbconvert_exporter": "python",
   "pygments_lexer": "ipython3",
   "version": "3.8.10"
  },
  "orig_nbformat": 4,
  "vscode": {
   "interpreter": {
    "hash": "916dbcbb3f70747c44a77c7bcd40155683ae19c65e1c03b4aa3499c5328201f1"
   }
  }
 },
 "nbformat": 4,
 "nbformat_minor": 2
}
